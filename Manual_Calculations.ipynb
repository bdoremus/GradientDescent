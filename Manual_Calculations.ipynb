{
 "cells": [
  {
   "cell_type": "markdown",
   "metadata": {},
   "source": [
    "Calculate the first iteration of Gradient Descent to use when building unittests."
   ]
  },
  {
   "cell_type": "code",
   "execution_count": 117,
   "metadata": {
    "collapsed": true
   },
   "outputs": [],
   "source": [
    "import numpy as np"
   ]
  },
  {
   "cell_type": "code",
   "execution_count": 118,
   "metadata": {},
   "outputs": [
    {
     "name": "stdout",
     "output_type": "stream",
     "text": [
      "Input with 2 features: \n",
      " [[0 1]\n",
      " [2 2]\n",
      " [3 0]]\n"
     ]
    }
   ],
   "source": [
    "# Input matrix with 2 features (columns) and 3 data points (rows)\n",
    "feature_matrix = np.array([[0, 1], [2, 2], [3, 0]])\n",
    "print(\"Input with 2 features: \\n\",feature_matrix)"
   ]
  },
  {
   "cell_type": "code",
   "execution_count": 119,
   "metadata": {},
   "outputs": [
    {
     "name": "stdout",
     "output_type": "stream",
     "text": [
      "Target Output for each row:  [1 0 0]\n"
     ]
    }
   ],
   "source": [
    "# Output matrix corresponding to the feature_matrix for 3 data points\n",
    "target_matrix = np.array([1, 0, 0])\n",
    "print(\"Target Output for each row: \",target_matrix)"
   ]
  },
  {
   "cell_type": "code",
   "execution_count": 120,
   "metadata": {},
   "outputs": [
    {
     "name": "stdout",
     "output_type": "stream",
     "text": [
      "Initial Coefficients for each feature:  [ 1.  1.]\n"
     ]
    }
   ],
   "source": [
    "# initialize coefficients to 1\n",
    "beta = np.ones(2)\n",
    "print(\"Initial Coefficients for each feature: \",beta)"
   ]
  },
  {
   "cell_type": "code",
   "execution_count": 121,
   "metadata": {},
   "outputs": [
    {
     "data": {
      "text/plain": [
       "(1.0, 0.5, 0.0)"
      ]
     },
     "execution_count": 121,
     "metadata": {},
     "output_type": "execute_result"
    }
   ],
   "source": [
    "# Logistic (sigmoidal) hypothesis function; the basis of our classification model\n",
    "# input is the sum of linear coefficients times x_values\n",
    "hyp = lambda x: 1/(1+np.exp(x))\n",
    "hyp(-100), hyp(0), round(hyp(100))"
   ]
  },
  {
   "cell_type": "code",
   "execution_count": 122,
   "metadata": {
    "scrolled": true
   },
   "outputs": [
    {
     "name": "stdout",
     "output_type": "stream",
     "text": [
      "Predictions for each row based on current coefficients: \n",
      " [ 0.73105858  0.98201379  0.95257413]\n"
     ]
    }
   ],
   "source": [
    "# Calculate predicted output for each row given the current coefficients\n",
    "def predict_y(X, coeffs):\n",
    "    linear_predictor = np.dot(X, coeffs)\n",
    "    return hyp(-linear_predictor)\n",
    "\n",
    "print(\"Predictions for each row based on current coefficients: \\n\",predict_p(feature_matrix, beta))"
   ]
  },
  {
   "cell_type": "code",
   "execution_count": 123,
   "metadata": {},
   "outputs": [
    {
     "name": "stdout",
     "output_type": "stream",
     "text": [
      "Cost Function at this point:  7.37999896701\n"
     ]
    }
   ],
   "source": [
    "# Cost function: this is what gets minimized, even if it's not used directly\n",
    "def cost_fn(X, y, coeffs):\n",
    "    y_predictions = predict_y(X, coeffs)\n",
    "    return -sum(y*np.log(y_predictions) + (1-y)*np.log(1-y_predictions))\n",
    "\n",
    "print(\"Cost Function at this point: \", cost_fn(feature_matrix, target_matrix, beta))"
   ]
  },
  {
   "cell_type": "code",
   "execution_count": 124,
   "metadata": {},
   "outputs": [
    {
     "name": "stdout",
     "output_type": "stream",
     "text": [
      "Gradient of the cost at this point:  [ 4.82174996  1.69508616]\n"
     ]
    }
   ],
   "source": [
    "# Gradient: slopes of the cost function with these coefficients\n",
    "def gradient(X, y, coeffs):\n",
    "    y_predictions = predict_y(X, coeffs)\n",
    "    return X.T.dot(y_predictions-y)\n",
    "\n",
    "print(\"Gradient of the cost at this point: \",gradient(feature_matrix, target_matrix, beta))"
   ]
  }
 ],
 "metadata": {
  "kernelspec": {
   "display_name": "Python 3",
   "language": "python",
   "name": "python3"
  },
  "language_info": {
   "codemirror_mode": {
    "name": "ipython",
    "version": 3
   },
   "file_extension": ".py",
   "mimetype": "text/x-python",
   "name": "python",
   "nbconvert_exporter": "python",
   "pygments_lexer": "ipython3",
   "version": "3.6.1"
  }
 },
 "nbformat": 4,
 "nbformat_minor": 2
}
